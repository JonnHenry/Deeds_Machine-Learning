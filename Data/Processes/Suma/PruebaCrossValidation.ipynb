{
 "cells": [
  {
   "cell_type": "code",
   "execution_count": 27,
   "metadata": {},
   "outputs": [],
   "source": [
    "import numpy as np\n",
    "import pandas as pd\n",
    "#import matplotlib.pylab as plt\n",
    "import matplotlib.pyplot as plt\n",
    "from sklearn.preprocessing import MinMaxScaler\n",
    "from sklearn.metrics import silhouette_score\n",
    "from sklearn import cluster\n",
    "from sklearn.cluster import KMeans\n",
    "from sklearn.datasets import make_blobs\n",
    "import seaborn as sns\n",
    "sns.set()\n",
    "\n",
    "from yellowbrick.cluster import KElbowVisualizer\n",
    "from sklearn.decomposition import PCA\n",
    "from sklearn.manifold import TSNE\n",
    "from sklearn.model_selection import train_test_split\n",
    "from mpl_toolkits.mplot3d import Axes3D\n",
    "from sklearn.metrics import accuracy_score\n",
    "from imblearn.over_sampling import RandomOverSampler\n",
    "\n",
    "%matplotlib inline\n",
    "plt.rcParams['figure.figsize'] = (16, 9)\n",
    "plt.style.use('ggplot')\n",
    "from sklearn.datasets import make_classification\n",
    "from collections import Counter\n"
   ]
  },
  {
   "cell_type": "code",
   "execution_count": 28,
   "metadata": {},
   "outputs": [
    {
     "data": {
      "text/html": [
       "<div>\n",
       "<style scoped>\n",
       "    .dataframe tbody tr th:only-of-type {\n",
       "        vertical-align: middle;\n",
       "    }\n",
       "\n",
       "    .dataframe tbody tr th {\n",
       "        vertical-align: top;\n",
       "    }\n",
       "\n",
       "    .dataframe thead th {\n",
       "        text-align: right;\n",
       "    }\n",
       "</style>\n",
       "<table border=\"1\" class=\"dataframe\">\n",
       "  <thead>\n",
       "    <tr style=\"text-align: right;\">\n",
       "      <th></th>\n",
       "      <th>Study</th>\n",
       "      <th>Deeds</th>\n",
       "      <th>Texteditor</th>\n",
       "      <th>Diagram</th>\n",
       "      <th>Properties</th>\n",
       "      <th>Other</th>\n",
       "      <th>Blank</th>\n",
       "      <th>Aulaweb</th>\n",
       "      <th>Nota</th>\n",
       "    </tr>\n",
       "  </thead>\n",
       "  <tbody>\n",
       "    <tr>\n",
       "      <th>count</th>\n",
       "      <td>443.000000</td>\n",
       "      <td>443.000000</td>\n",
       "      <td>443.000000</td>\n",
       "      <td>443.000000</td>\n",
       "      <td>443.000000</td>\n",
       "      <td>443.000000</td>\n",
       "      <td>443.000000</td>\n",
       "      <td>443.000000</td>\n",
       "      <td>443.000000</td>\n",
       "    </tr>\n",
       "    <tr>\n",
       "      <th>mean</th>\n",
       "      <td>11.950339</td>\n",
       "      <td>15.381490</td>\n",
       "      <td>39.442438</td>\n",
       "      <td>1524.015801</td>\n",
       "      <td>196.909707</td>\n",
       "      <td>749.808126</td>\n",
       "      <td>204.862302</td>\n",
       "      <td>167.162528</td>\n",
       "      <td>3.679458</td>\n",
       "    </tr>\n",
       "    <tr>\n",
       "      <th>std</th>\n",
       "      <td>27.766516</td>\n",
       "      <td>58.953324</td>\n",
       "      <td>94.480998</td>\n",
       "      <td>1206.571899</td>\n",
       "      <td>208.987466</td>\n",
       "      <td>817.276606</td>\n",
       "      <td>282.163830</td>\n",
       "      <td>273.719149</td>\n",
       "      <td>1.226114</td>\n",
       "    </tr>\n",
       "    <tr>\n",
       "      <th>min</th>\n",
       "      <td>0.000000</td>\n",
       "      <td>0.000000</td>\n",
       "      <td>0.000000</td>\n",
       "      <td>0.000000</td>\n",
       "      <td>0.000000</td>\n",
       "      <td>26.000000</td>\n",
       "      <td>5.000000</td>\n",
       "      <td>0.000000</td>\n",
       "      <td>0.000000</td>\n",
       "    </tr>\n",
       "    <tr>\n",
       "      <th>25%</th>\n",
       "      <td>1.000000</td>\n",
       "      <td>1.000000</td>\n",
       "      <td>1.000000</td>\n",
       "      <td>332.500000</td>\n",
       "      <td>16.000000</td>\n",
       "      <td>309.000000</td>\n",
       "      <td>62.000000</td>\n",
       "      <td>46.000000</td>\n",
       "      <td>3.000000</td>\n",
       "    </tr>\n",
       "    <tr>\n",
       "      <th>50%</th>\n",
       "      <td>2.000000</td>\n",
       "      <td>1.000000</td>\n",
       "      <td>5.000000</td>\n",
       "      <td>1426.000000</td>\n",
       "      <td>173.000000</td>\n",
       "      <td>515.000000</td>\n",
       "      <td>129.000000</td>\n",
       "      <td>98.000000</td>\n",
       "      <td>4.000000</td>\n",
       "    </tr>\n",
       "    <tr>\n",
       "      <th>75%</th>\n",
       "      <td>9.000000</td>\n",
       "      <td>3.000000</td>\n",
       "      <td>22.500000</td>\n",
       "      <td>2438.500000</td>\n",
       "      <td>309.000000</td>\n",
       "      <td>856.500000</td>\n",
       "      <td>253.000000</td>\n",
       "      <td>194.000000</td>\n",
       "      <td>5.000000</td>\n",
       "    </tr>\n",
       "    <tr>\n",
       "      <th>max</th>\n",
       "      <td>258.000000</td>\n",
       "      <td>729.000000</td>\n",
       "      <td>780.000000</td>\n",
       "      <td>4543.000000</td>\n",
       "      <td>1162.000000</td>\n",
       "      <td>4894.000000</td>\n",
       "      <td>2733.000000</td>\n",
       "      <td>2167.000000</td>\n",
       "      <td>5.000000</td>\n",
       "    </tr>\n",
       "  </tbody>\n",
       "</table>\n",
       "</div>"
      ],
      "text/plain": [
       "            Study       Deeds  Texteditor      Diagram   Properties  \\\n",
       "count  443.000000  443.000000  443.000000   443.000000   443.000000   \n",
       "mean    11.950339   15.381490   39.442438  1524.015801   196.909707   \n",
       "std     27.766516   58.953324   94.480998  1206.571899   208.987466   \n",
       "min      0.000000    0.000000    0.000000     0.000000     0.000000   \n",
       "25%      1.000000    1.000000    1.000000   332.500000    16.000000   \n",
       "50%      2.000000    1.000000    5.000000  1426.000000   173.000000   \n",
       "75%      9.000000    3.000000   22.500000  2438.500000   309.000000   \n",
       "max    258.000000  729.000000  780.000000  4543.000000  1162.000000   \n",
       "\n",
       "             Other        Blank      Aulaweb        Nota  \n",
       "count   443.000000   443.000000   443.000000  443.000000  \n",
       "mean    749.808126   204.862302   167.162528    3.679458  \n",
       "std     817.276606   282.163830   273.719149    1.226114  \n",
       "min      26.000000     5.000000     0.000000    0.000000  \n",
       "25%     309.000000    62.000000    46.000000    3.000000  \n",
       "50%     515.000000   129.000000    98.000000    4.000000  \n",
       "75%     856.500000   253.000000   194.000000    5.000000  \n",
       "max    4894.000000  2733.000000  2167.000000    5.000000  "
      ]
     },
     "execution_count": 28,
     "metadata": {},
     "output_type": "execute_result"
    }
   ],
   "source": [
    "df = pd.read_csv('Suma_todasLasSesiones.csv')\n",
    "df = df.drop(['Sesion','Id','Fsm'], axis=1)\n",
    "df.describe()"
   ]
  },
  {
   "cell_type": "code",
   "execution_count": 32,
   "metadata": {},
   "outputs": [],
   "source": [
    "X = df.drop(['Nota'],1)\n",
    "#scaler = MinMaxScaler()\n",
    "#x = scaler.fit_transform(X)\n",
    "#clusters = scaler.fit_transform(df[['Nota']])\n"
   ]
  },
  {
   "cell_type": "code",
   "execution_count": 33,
   "metadata": {},
   "outputs": [],
   "source": [
    "ros = RandomOverSampler(random_state=0)"
   ]
  },
  {
   "cell_type": "code",
   "execution_count": 37,
   "metadata": {},
   "outputs": [],
   "source": [
    "X = df[(df['Study'] >1) & (df['Study'] > 1)&(df['Properties'] > 38)&(df['Blank'] > 253)]\n",
    "clusters = X[['Nota']]\n",
    "\n",
    "X_resampled, y_resampled = ros.fit_resample(X, clusters)"
   ]
  },
  {
   "cell_type": "code",
   "execution_count": 38,
   "metadata": {},
   "outputs": [
    {
     "name": "stdout",
     "output_type": "stream",
     "text": [
      "[('Nota', 1)]\n"
     ]
    }
   ],
   "source": [
    "print(sorted(Counter(y_resampled).items()))"
   ]
  },
  {
   "cell_type": "code",
   "execution_count": 39,
   "metadata": {},
   "outputs": [
    {
     "data": {
      "text/plain": [
       "108"
      ]
     },
     "execution_count": 39,
     "metadata": {},
     "output_type": "execute_result"
    }
   ],
   "source": [
    "len(X_resampled)"
   ]
  },
  {
   "cell_type": "code",
   "execution_count": 40,
   "metadata": {},
   "outputs": [
    {
     "data": {
      "image/png": "[encoded data removed]",
      "text/plain": [
       "<Figure size 1152x648 with 9 Axes>"
      ]
     },
     "metadata": {},
     "output_type": "display_data"
    }
   ],
   "source": [
    "plt.rcParams['figure.figsize'] = (16, 9)\n",
    "plt.style.use('ggplot')\n",
    "datos = X_resampled.hist()\n",
    "plt.grid(True)\n",
    "plt.show()"
   ]
  },
  {
   "cell_type": "code",
   "execution_count": 44,
   "metadata": {},
   "outputs": [],
   "source": [
    "scaler = MinMaxScaler()\n",
    "x = scaler.fit_transform(X_resampled)\n",
    "X_train,X_test,Y_train,Y_test=train_test_split(X_resampled, y_resampled, test_size=0.10)"
   ]
  },
  {
   "cell_type": "code",
   "execution_count": 45,
   "metadata": {},
   "outputs": [
    {
     "data": {
      "text/plain": [
       "0.09090909090909091"
      ]
     },
     "execution_count": 45,
     "metadata": {},
     "output_type": "execute_result"
    }
   ],
   "source": [
    "kmeans = KMeans(n_clusters=3)\n",
    "kmeans.fit(X_train)\n",
    "labels = kmeans.predict(X_test)\n",
    "centroids = kmeans.cluster_centers_\n",
    "accuracy_score(Y_test, labels)"
   ]
  },
  {
   "cell_type": "code",
   "execution_count": null,
   "metadata": {},
   "outputs": [],
   "source": []
  }
 ],
 "metadata": {
  "kernelspec": {
   "display_name": "Python 3",
   "language": "python",
   "name": "python3"
  },
  "language_info": {
   "codemirror_mode": {
    "name": "ipython",
    "version": 3
   },
   "file_extension": ".py",
   "mimetype": "text/x-python",
   "name": "python",
   "nbconvert_exporter": "python",
   "pygments_lexer": "ipython3",
   "version": "3.7.6"
  }
 },
 "nbformat": 4,
 "nbformat_minor": 4
}
