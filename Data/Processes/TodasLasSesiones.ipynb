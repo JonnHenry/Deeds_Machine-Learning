{
 "cells": [
  {
   "cell_type": "code",
   "execution_count": 1,
   "metadata": {},
   "outputs": [],
   "source": [
    "import pandas as pd"
   ]
  },
  {
   "cell_type": "code",
   "execution_count": 2,
   "metadata": {},
   "outputs": [],
   "source": [
    "sesion1=pd.read_csv('sesion1.csv')\n",
    "sesion2=pd.read_csv('sesion2.csv')\n",
    "sesion3=pd.read_csv('sesion3.csv')\n",
    "sesion4=pd.read_csv('sesion4.csv')\n",
    "sesion5=pd.read_csv('sesion5.csv')\n",
    "sesion6=pd.read_csv('sesion6.csv')\n"
   ]
  },
  {
   "cell_type": "code",
   "execution_count": 3,
   "metadata": {},
   "outputs": [
    {
     "name": "stdout",
     "output_type": "stream",
     "text": [
      "519\n"
     ]
    }
   ],
   "source": [
    "sumaSesiones = len(sesion1)+len(sesion2)+len(sesion3)+len(sesion4)+len(sesion5)+len(sesion6)\n",
    "print(sumaSesiones)\n",
    "\n",
    "todasSesiones = pd.concat([sesion1,sesion2,sesion3,sesion4,sesion5,sesion6])\n",
    "todasSesiones.fillna(0,inplace=True)\n",
    "todasSesiones.to_csv('todasLasSesiones.csv', index=False, header=True,sep=',')\n"
   ]
  },
  {
   "cell_type": "code",
   "execution_count": null,
   "metadata": {},
   "outputs": [],
   "source": []
  }
 ],
 "metadata": {
  "kernelspec": {
   "display_name": "Python 3",
   "language": "python",
   "name": "python3"
  },
  "language_info": {
   "codemirror_mode": {
    "name": "ipython",
    "version": 3
   },
   "file_extension": ".py",
   "mimetype": "text/x-python",
   "name": "python",
   "nbconvert_exporter": "python",
   "pygments_lexer": "ipython3",
   "version": "3.7.6"
  }
 },
 "nbformat": 4,
 "nbformat_minor": 4
}
